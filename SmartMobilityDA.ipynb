{
 "cells": [
  {
   "cell_type": "markdown",
   "metadata": {},
   "source": [
    "# Smart Mobility Traffic Analysis\n"
   ]
  },
  {
   "cell_type": "code",
   "execution_count": 1,
   "metadata": {},
   "outputs": [
    {
     "data": {
      "application/vnd.microsoft.datawrangler.viewer.v0+json": {
       "columns": [
        {
         "name": "index",
         "rawType": "int64",
         "type": "integer"
        },
        {
         "name": "Timestamp",
         "rawType": "object",
         "type": "string"
        },
        {
         "name": "Latitude",
         "rawType": "float64",
         "type": "float"
        },
        {
         "name": "Longitude",
         "rawType": "float64",
         "type": "float"
        },
        {
         "name": "Vehicle_Count",
         "rawType": "int64",
         "type": "integer"
        },
        {
         "name": "Traffic_Speed_kmh",
         "rawType": "float64",
         "type": "float"
        },
        {
         "name": "Road_Occupancy_%",
         "rawType": "float64",
         "type": "float"
        },
        {
         "name": "Traffic_Light_State",
         "rawType": "object",
         "type": "string"
        },
        {
         "name": "Weather_Condition",
         "rawType": "object",
         "type": "string"
        },
        {
         "name": "Accident_Report",
         "rawType": "int64",
         "type": "integer"
        },
        {
         "name": "Sentiment_Score",
         "rawType": "float64",
         "type": "float"
        },
        {
         "name": "Ride_Sharing_Demand",
         "rawType": "int64",
         "type": "integer"
        },
        {
         "name": "Parking_Availability",
         "rawType": "int64",
         "type": "integer"
        },
        {
         "name": "Emission_Levels_g_km",
         "rawType": "float64",
         "type": "float"
        },
        {
         "name": "Energy_Consumption_L_h",
         "rawType": "float64",
         "type": "float"
        },
        {
         "name": "Traffic_Condition",
         "rawType": "object",
         "type": "string"
        }
       ],
       "conversionMethod": "pd.DataFrame",
       "ref": "fb3ef865-b54e-4ef7-8e2c-a0c8f00a3aee",
       "rows": [
        [
         "0",
         "2024-03-01 00:00:00",
         "40.84227529289184",
         "-73.70314869323049",
         "205",
         "49.89343479610332",
         "82.65277992850861",
         "Yellow",
         "Clear",
         "0",
         "-0.6091990900689384",
         "2",
         "45",
         "450.7600550695179",
         "19.57433652960039",
         "High"
        ],
        [
         "1",
         "2024-03-01 00:05:00",
         "40.8311193987152",
         "-73.9873540904415",
         "202",
         "22.38396487008785",
         "45.82929780270145",
         "Green",
         "Clear",
         "0",
         "0.965442369948869",
         "16",
         "1",
         "321.8003405168867",
         "5.385553512193732",
         "High"
        ],
        [
         "2",
         "2024-03-01 00:10:00",
         "40.81954876392327",
         "-73.73246185831279",
         "252",
         "46.88969943933488",
         "82.77246480269831",
         "Green",
         "Rain",
         "0",
         "0.2896603158283986",
         "16",
         "49",
         "231.1526548042294",
         "10.277477486419944",
         "High"
        ],
        [
         "3",
         "2024-03-01 00:15:00",
         "40.72584887921568",
         "-73.98013411315877",
         "37",
         "5.73053642288215",
         "37.69556743980888",
         "Red",
         "Fog",
         "0",
         "-0.2719647381913392",
         "66",
         "10",
         "410.3842921098877",
         "29.243279449960266",
         "High"
        ],
        [
         "4",
         "2024-03-01 00:20:00",
         "40.81326467769622",
         "-73.96163054358502",
         "64",
         "61.34803435570192",
         "22.31335794983795",
         "Red",
         "Snow",
         "0",
         "-0.7976056171199948",
         "3",
         "5",
         "364.4663416875681",
         "16.801458761149803",
         "Low"
        ]
       ],
       "shape": {
        "columns": 15,
        "rows": 5
       }
      },
      "text/html": [
       "<div>\n",
       "<style scoped>\n",
       "    .dataframe tbody tr th:only-of-type {\n",
       "        vertical-align: middle;\n",
       "    }\n",
       "\n",
       "    .dataframe tbody tr th {\n",
       "        vertical-align: top;\n",
       "    }\n",
       "\n",
       "    .dataframe thead th {\n",
       "        text-align: right;\n",
       "    }\n",
       "</style>\n",
       "<table border=\"1\" class=\"dataframe\">\n",
       "  <thead>\n",
       "    <tr style=\"text-align: right;\">\n",
       "      <th></th>\n",
       "      <th>Timestamp</th>\n",
       "      <th>Latitude</th>\n",
       "      <th>Longitude</th>\n",
       "      <th>Vehicle_Count</th>\n",
       "      <th>Traffic_Speed_kmh</th>\n",
       "      <th>Road_Occupancy_%</th>\n",
       "      <th>Traffic_Light_State</th>\n",
       "      <th>Weather_Condition</th>\n",
       "      <th>Accident_Report</th>\n",
       "      <th>Sentiment_Score</th>\n",
       "      <th>Ride_Sharing_Demand</th>\n",
       "      <th>Parking_Availability</th>\n",
       "      <th>Emission_Levels_g_km</th>\n",
       "      <th>Energy_Consumption_L_h</th>\n",
       "      <th>Traffic_Condition</th>\n",
       "    </tr>\n",
       "  </thead>\n",
       "  <tbody>\n",
       "    <tr>\n",
       "      <th>0</th>\n",
       "      <td>2024-03-01 00:00:00</td>\n",
       "      <td>40.842275</td>\n",
       "      <td>-73.703149</td>\n",
       "      <td>205</td>\n",
       "      <td>49.893435</td>\n",
       "      <td>82.652780</td>\n",
       "      <td>Yellow</td>\n",
       "      <td>Clear</td>\n",
       "      <td>0</td>\n",
       "      <td>-0.609199</td>\n",
       "      <td>2</td>\n",
       "      <td>45</td>\n",
       "      <td>450.760055</td>\n",
       "      <td>19.574337</td>\n",
       "      <td>High</td>\n",
       "    </tr>\n",
       "    <tr>\n",
       "      <th>1</th>\n",
       "      <td>2024-03-01 00:05:00</td>\n",
       "      <td>40.831119</td>\n",
       "      <td>-73.987354</td>\n",
       "      <td>202</td>\n",
       "      <td>22.383965</td>\n",
       "      <td>45.829298</td>\n",
       "      <td>Green</td>\n",
       "      <td>Clear</td>\n",
       "      <td>0</td>\n",
       "      <td>0.965442</td>\n",
       "      <td>16</td>\n",
       "      <td>1</td>\n",
       "      <td>321.800341</td>\n",
       "      <td>5.385554</td>\n",
       "      <td>High</td>\n",
       "    </tr>\n",
       "    <tr>\n",
       "      <th>2</th>\n",
       "      <td>2024-03-01 00:10:00</td>\n",
       "      <td>40.819549</td>\n",
       "      <td>-73.732462</td>\n",
       "      <td>252</td>\n",
       "      <td>46.889699</td>\n",
       "      <td>82.772465</td>\n",
       "      <td>Green</td>\n",
       "      <td>Rain</td>\n",
       "      <td>0</td>\n",
       "      <td>0.289660</td>\n",
       "      <td>16</td>\n",
       "      <td>49</td>\n",
       "      <td>231.152655</td>\n",
       "      <td>10.277477</td>\n",
       "      <td>High</td>\n",
       "    </tr>\n",
       "    <tr>\n",
       "      <th>3</th>\n",
       "      <td>2024-03-01 00:15:00</td>\n",
       "      <td>40.725849</td>\n",
       "      <td>-73.980134</td>\n",
       "      <td>37</td>\n",
       "      <td>5.730536</td>\n",
       "      <td>37.695567</td>\n",
       "      <td>Red</td>\n",
       "      <td>Fog</td>\n",
       "      <td>0</td>\n",
       "      <td>-0.271965</td>\n",
       "      <td>66</td>\n",
       "      <td>10</td>\n",
       "      <td>410.384292</td>\n",
       "      <td>29.243279</td>\n",
       "      <td>High</td>\n",
       "    </tr>\n",
       "    <tr>\n",
       "      <th>4</th>\n",
       "      <td>2024-03-01 00:20:00</td>\n",
       "      <td>40.813265</td>\n",
       "      <td>-73.961631</td>\n",
       "      <td>64</td>\n",
       "      <td>61.348034</td>\n",
       "      <td>22.313358</td>\n",
       "      <td>Red</td>\n",
       "      <td>Snow</td>\n",
       "      <td>0</td>\n",
       "      <td>-0.797606</td>\n",
       "      <td>3</td>\n",
       "      <td>5</td>\n",
       "      <td>364.466342</td>\n",
       "      <td>16.801459</td>\n",
       "      <td>Low</td>\n",
       "    </tr>\n",
       "  </tbody>\n",
       "</table>\n",
       "</div>"
      ],
      "text/plain": [
       "             Timestamp   Latitude  Longitude  Vehicle_Count  \\\n",
       "0  2024-03-01 00:00:00  40.842275 -73.703149            205   \n",
       "1  2024-03-01 00:05:00  40.831119 -73.987354            202   \n",
       "2  2024-03-01 00:10:00  40.819549 -73.732462            252   \n",
       "3  2024-03-01 00:15:00  40.725849 -73.980134             37   \n",
       "4  2024-03-01 00:20:00  40.813265 -73.961631             64   \n",
       "\n",
       "   Traffic_Speed_kmh  Road_Occupancy_% Traffic_Light_State Weather_Condition  \\\n",
       "0          49.893435         82.652780              Yellow             Clear   \n",
       "1          22.383965         45.829298               Green             Clear   \n",
       "2          46.889699         82.772465               Green              Rain   \n",
       "3           5.730536         37.695567                 Red               Fog   \n",
       "4          61.348034         22.313358                 Red              Snow   \n",
       "\n",
       "   Accident_Report  Sentiment_Score  Ride_Sharing_Demand  \\\n",
       "0                0        -0.609199                    2   \n",
       "1                0         0.965442                   16   \n",
       "2                0         0.289660                   16   \n",
       "3                0        -0.271965                   66   \n",
       "4                0        -0.797606                    3   \n",
       "\n",
       "   Parking_Availability  Emission_Levels_g_km  Energy_Consumption_L_h  \\\n",
       "0                    45            450.760055               19.574337   \n",
       "1                     1            321.800341                5.385554   \n",
       "2                    49            231.152655               10.277477   \n",
       "3                    10            410.384292               29.243279   \n",
       "4                     5            364.466342               16.801459   \n",
       "\n",
       "  Traffic_Condition  \n",
       "0              High  \n",
       "1              High  \n",
       "2              High  \n",
       "3              High  \n",
       "4               Low  "
      ]
     },
     "execution_count": 1,
     "metadata": {},
     "output_type": "execute_result"
    }
   ],
   "source": [
    "#Importiamo le librerie \n",
    "import pandas as pd\n",
    "import seaborn as sns\n",
    "import matplotlib.pyplot as plt\n",
    "from sklearn.preprocessing import LabelEncoder\n",
    "from sklearn.preprocessing import MinMaxScaler\n",
    "import joblib\n",
    "\n",
    "#Leggiamo il dataset\n",
    "dataset = pd.read_csv('smart_mobility_dataset.csv')\n",
    "\n",
    "dataset.head()\n"
   ]
  },
  {
   "cell_type": "markdown",
   "metadata": {},
   "source": [
    "## 1 - Analisi Preliminare"
   ]
  },
  {
   "cell_type": "code",
   "execution_count": 2,
   "metadata": {},
   "outputs": [
    {
     "name": "stdout",
     "output_type": "stream",
     "text": [
      "Timestamp                  object\n",
      "Latitude                  float64\n",
      "Longitude                 float64\n",
      "Vehicle_Count               int64\n",
      "Traffic_Speed_kmh         float64\n",
      "Road_Occupancy_%          float64\n",
      "Traffic_Light_State        object\n",
      "Weather_Condition          object\n",
      "Accident_Report             int64\n",
      "Sentiment_Score           float64\n",
      "Ride_Sharing_Demand         int64\n",
      "Parking_Availability        int64\n",
      "Emission_Levels_g_km      float64\n",
      "Energy_Consumption_L_h    float64\n",
      "Traffic_Condition          object\n",
      "dtype: object\n",
      "\n",
      "Number of rows:  5000\n",
      "Number of columns:  15\n"
     ]
    }
   ],
   "source": [
    "#Visualizziamo i tipi delle colonne\n",
    "print(f\"{dataset.dtypes}\\n\")\n",
    "\n",
    "print(\"Number of rows: \", dataset.shape[0])\n",
    "print(\"Number of columns: \", dataset.shape[1])"
   ]
  },
  {
   "cell_type": "code",
   "execution_count": 3,
   "metadata": {},
   "outputs": [
    {
     "data": {
      "application/vnd.microsoft.datawrangler.viewer.v0+json": {
       "columns": [
        {
         "name": "index",
         "rawType": "object",
         "type": "string"
        },
        {
         "name": "Latitude",
         "rawType": "float64",
         "type": "float"
        },
        {
         "name": "Longitude",
         "rawType": "float64",
         "type": "float"
        },
        {
         "name": "Vehicle_Count",
         "rawType": "float64",
         "type": "float"
        },
        {
         "name": "Traffic_Speed_kmh",
         "rawType": "float64",
         "type": "float"
        },
        {
         "name": "Road_Occupancy_%",
         "rawType": "float64",
         "type": "float"
        },
        {
         "name": "Accident_Report",
         "rawType": "float64",
         "type": "float"
        },
        {
         "name": "Sentiment_Score",
         "rawType": "float64",
         "type": "float"
        },
        {
         "name": "Ride_Sharing_Demand",
         "rawType": "float64",
         "type": "float"
        },
        {
         "name": "Parking_Availability",
         "rawType": "float64",
         "type": "float"
        },
        {
         "name": "Emission_Levels_g_km",
         "rawType": "float64",
         "type": "float"
        },
        {
         "name": "Energy_Consumption_L_h",
         "rawType": "float64",
         "type": "float"
        }
       ],
       "conversionMethod": "pd.DataFrame",
       "ref": "7ad13be8-7376-45f9-ab5d-fc7afd6d9c4c",
       "rows": [
        [
         "count",
         "5000.0",
         "5000.0",
         "5000.0",
         "5000.0",
         "5000.0",
         "5000.0",
         "5000.0",
         "5000.0",
         "5000.0",
         "5000.0",
         "5000.0"
        ],
        [
         "mean",
         "40.74964523031779",
         "-73.847433411381",
         "153.9212",
         "42.111096176141764",
         "54.7483969047372",
         "0.096",
         "-0.005652227170852771",
         "50.4878",
         "24.613",
         "272.1749268372848",
         "17.34324342366712"
        ],
        [
         "std",
         "0.08612250418614036",
         "0.08620418714503082",
         "83.52334176913695",
         "21.707720112093224",
         "26.145237935196675",
         "0.29462070577617994",
         "0.5837896649822747",
         "28.484425984469706",
         "14.53251078698911",
         "130.08637200830333",
         "7.208277006294425"
        ],
        [
         "min",
         "40.60001638114008",
         "-73.99998703685291",
         "10.0",
         "5.002789464754283",
         "10.005030776733784",
         "0.0",
         "-0.9998189166662884",
         "1.0",
         "0.0",
         "50.13685533232076",
         "5.003786951675283"
        ],
        [
         "25%",
         "40.675403074516915",
         "-73.92028059297364",
         "80.0",
         "23.19575179000411",
         "32.08965258591054",
         "0.0",
         "-0.5001537585266902",
         "26.0",
         "12.0",
         "160.56443264878558",
         "11.098761059059122"
        ],
        [
         "50%",
         "40.7488750236123",
         "-73.84605764549055",
         "156.0",
         "42.19159884334633",
         "54.657296881126115",
         "0.0",
         "-0.010563602707987799",
         "50.0",
         "24.0",
         "272.04551252974204",
         "17.15379089695481"
        ],
        [
         "75%",
         "40.8247345103138",
         "-73.77168504382644",
         "226.0",
         "60.75176046076053",
         "77.58171953155663",
         "0.0",
         "0.5005177831423562",
         "75.0",
         "37.0",
         "382.2420547809596",
         "23.516595397146894"
        ],
        [
         "max",
         "40.89997245351517",
         "-73.70015891091866",
         "299.0",
         "79.99755567864995",
         "99.9997289834204",
         "1.0",
         "0.9993537811173094",
         "99.0",
         "49.0",
         "499.9226630053219",
         "29.995415951759885"
        ]
       ],
       "shape": {
        "columns": 11,
        "rows": 8
       }
      },
      "text/html": [
       "<div>\n",
       "<style scoped>\n",
       "    .dataframe tbody tr th:only-of-type {\n",
       "        vertical-align: middle;\n",
       "    }\n",
       "\n",
       "    .dataframe tbody tr th {\n",
       "        vertical-align: top;\n",
       "    }\n",
       "\n",
       "    .dataframe thead th {\n",
       "        text-align: right;\n",
       "    }\n",
       "</style>\n",
       "<table border=\"1\" class=\"dataframe\">\n",
       "  <thead>\n",
       "    <tr style=\"text-align: right;\">\n",
       "      <th></th>\n",
       "      <th>Latitude</th>\n",
       "      <th>Longitude</th>\n",
       "      <th>Vehicle_Count</th>\n",
       "      <th>Traffic_Speed_kmh</th>\n",
       "      <th>Road_Occupancy_%</th>\n",
       "      <th>Accident_Report</th>\n",
       "      <th>Sentiment_Score</th>\n",
       "      <th>Ride_Sharing_Demand</th>\n",
       "      <th>Parking_Availability</th>\n",
       "      <th>Emission_Levels_g_km</th>\n",
       "      <th>Energy_Consumption_L_h</th>\n",
       "    </tr>\n",
       "  </thead>\n",
       "  <tbody>\n",
       "    <tr>\n",
       "      <th>count</th>\n",
       "      <td>5000.000000</td>\n",
       "      <td>5000.000000</td>\n",
       "      <td>5000.000000</td>\n",
       "      <td>5000.000000</td>\n",
       "      <td>5000.000000</td>\n",
       "      <td>5000.000000</td>\n",
       "      <td>5000.000000</td>\n",
       "      <td>5000.000000</td>\n",
       "      <td>5000.000000</td>\n",
       "      <td>5000.000000</td>\n",
       "      <td>5000.000000</td>\n",
       "    </tr>\n",
       "    <tr>\n",
       "      <th>mean</th>\n",
       "      <td>40.749645</td>\n",
       "      <td>-73.847433</td>\n",
       "      <td>153.921200</td>\n",
       "      <td>42.111096</td>\n",
       "      <td>54.748397</td>\n",
       "      <td>0.096000</td>\n",
       "      <td>-0.005652</td>\n",
       "      <td>50.487800</td>\n",
       "      <td>24.613000</td>\n",
       "      <td>272.174927</td>\n",
       "      <td>17.343243</td>\n",
       "    </tr>\n",
       "    <tr>\n",
       "      <th>std</th>\n",
       "      <td>0.086123</td>\n",
       "      <td>0.086204</td>\n",
       "      <td>83.523342</td>\n",
       "      <td>21.707720</td>\n",
       "      <td>26.145238</td>\n",
       "      <td>0.294621</td>\n",
       "      <td>0.583790</td>\n",
       "      <td>28.484426</td>\n",
       "      <td>14.532511</td>\n",
       "      <td>130.086372</td>\n",
       "      <td>7.208277</td>\n",
       "    </tr>\n",
       "    <tr>\n",
       "      <th>min</th>\n",
       "      <td>40.600016</td>\n",
       "      <td>-73.999987</td>\n",
       "      <td>10.000000</td>\n",
       "      <td>5.002789</td>\n",
       "      <td>10.005031</td>\n",
       "      <td>0.000000</td>\n",
       "      <td>-0.999819</td>\n",
       "      <td>1.000000</td>\n",
       "      <td>0.000000</td>\n",
       "      <td>50.136855</td>\n",
       "      <td>5.003787</td>\n",
       "    </tr>\n",
       "    <tr>\n",
       "      <th>25%</th>\n",
       "      <td>40.675403</td>\n",
       "      <td>-73.920281</td>\n",
       "      <td>80.000000</td>\n",
       "      <td>23.195752</td>\n",
       "      <td>32.089653</td>\n",
       "      <td>0.000000</td>\n",
       "      <td>-0.500154</td>\n",
       "      <td>26.000000</td>\n",
       "      <td>12.000000</td>\n",
       "      <td>160.564433</td>\n",
       "      <td>11.098761</td>\n",
       "    </tr>\n",
       "    <tr>\n",
       "      <th>50%</th>\n",
       "      <td>40.748875</td>\n",
       "      <td>-73.846058</td>\n",
       "      <td>156.000000</td>\n",
       "      <td>42.191599</td>\n",
       "      <td>54.657297</td>\n",
       "      <td>0.000000</td>\n",
       "      <td>-0.010564</td>\n",
       "      <td>50.000000</td>\n",
       "      <td>24.000000</td>\n",
       "      <td>272.045513</td>\n",
       "      <td>17.153791</td>\n",
       "    </tr>\n",
       "    <tr>\n",
       "      <th>75%</th>\n",
       "      <td>40.824735</td>\n",
       "      <td>-73.771685</td>\n",
       "      <td>226.000000</td>\n",
       "      <td>60.751760</td>\n",
       "      <td>77.581720</td>\n",
       "      <td>0.000000</td>\n",
       "      <td>0.500518</td>\n",
       "      <td>75.000000</td>\n",
       "      <td>37.000000</td>\n",
       "      <td>382.242055</td>\n",
       "      <td>23.516595</td>\n",
       "    </tr>\n",
       "    <tr>\n",
       "      <th>max</th>\n",
       "      <td>40.899972</td>\n",
       "      <td>-73.700159</td>\n",
       "      <td>299.000000</td>\n",
       "      <td>79.997556</td>\n",
       "      <td>99.999729</td>\n",
       "      <td>1.000000</td>\n",
       "      <td>0.999354</td>\n",
       "      <td>99.000000</td>\n",
       "      <td>49.000000</td>\n",
       "      <td>499.922663</td>\n",
       "      <td>29.995416</td>\n",
       "    </tr>\n",
       "  </tbody>\n",
       "</table>\n",
       "</div>"
      ],
      "text/plain": [
       "          Latitude    Longitude  Vehicle_Count  Traffic_Speed_kmh  \\\n",
       "count  5000.000000  5000.000000    5000.000000        5000.000000   \n",
       "mean     40.749645   -73.847433     153.921200          42.111096   \n",
       "std       0.086123     0.086204      83.523342          21.707720   \n",
       "min      40.600016   -73.999987      10.000000           5.002789   \n",
       "25%      40.675403   -73.920281      80.000000          23.195752   \n",
       "50%      40.748875   -73.846058     156.000000          42.191599   \n",
       "75%      40.824735   -73.771685     226.000000          60.751760   \n",
       "max      40.899972   -73.700159     299.000000          79.997556   \n",
       "\n",
       "       Road_Occupancy_%  Accident_Report  Sentiment_Score  \\\n",
       "count       5000.000000      5000.000000      5000.000000   \n",
       "mean          54.748397         0.096000        -0.005652   \n",
       "std           26.145238         0.294621         0.583790   \n",
       "min           10.005031         0.000000        -0.999819   \n",
       "25%           32.089653         0.000000        -0.500154   \n",
       "50%           54.657297         0.000000        -0.010564   \n",
       "75%           77.581720         0.000000         0.500518   \n",
       "max           99.999729         1.000000         0.999354   \n",
       "\n",
       "       Ride_Sharing_Demand  Parking_Availability  Emission_Levels_g_km  \\\n",
       "count          5000.000000           5000.000000           5000.000000   \n",
       "mean             50.487800             24.613000            272.174927   \n",
       "std              28.484426             14.532511            130.086372   \n",
       "min               1.000000              0.000000             50.136855   \n",
       "25%              26.000000             12.000000            160.564433   \n",
       "50%              50.000000             24.000000            272.045513   \n",
       "75%              75.000000             37.000000            382.242055   \n",
       "max              99.000000             49.000000            499.922663   \n",
       "\n",
       "       Energy_Consumption_L_h  \n",
       "count             5000.000000  \n",
       "mean                17.343243  \n",
       "std                  7.208277  \n",
       "min                  5.003787  \n",
       "25%                 11.098761  \n",
       "50%                 17.153791  \n",
       "75%                 23.516595  \n",
       "max                 29.995416  "
      ]
     },
     "execution_count": 3,
     "metadata": {},
     "output_type": "execute_result"
    }
   ],
   "source": [
    "# calcolo statistiche descrittive\n",
    "dataset.describe()"
   ]
  },
  {
   "cell_type": "code",
   "execution_count": 4,
   "metadata": {},
   "outputs": [
    {
     "name": "stdout",
     "output_type": "stream",
     "text": [
      "Timestamp                 0\n",
      "Latitude                  0\n",
      "Longitude                 0\n",
      "Vehicle_Count             0\n",
      "Traffic_Speed_kmh         0\n",
      "Road_Occupancy_%          0\n",
      "Traffic_Light_State       0\n",
      "Weather_Condition         0\n",
      "Accident_Report           0\n",
      "Sentiment_Score           0\n",
      "Ride_Sharing_Demand       0\n",
      "Parking_Availability      0\n",
      "Emission_Levels_g_km      0\n",
      "Energy_Consumption_L_h    0\n",
      "Traffic_Condition         0\n",
      "dtype: int64\n"
     ]
    }
   ],
   "source": [
    "#Verifica dati mancanti \n",
    "missing_values = dataset.isnull().sum()\n",
    "print(missing_values)"
   ]
  },
  {
   "cell_type": "code",
   "execution_count": 5,
   "metadata": {},
   "outputs": [
    {
     "data": {
      "image/png": "[encoded data removed]",
      "text/plain": [
       "<Figure size 1600x1200 with 12 Axes>"
      ]
     },
     "metadata": {},
     "output_type": "display_data"
    }
   ],
   "source": [
    "# Istogrammi per la distribuzione delle feature numeriche\n",
    "\n",
    "# Elenco delle colonne da escludere\n",
    "columns_to_exclude = ['Traffic_Light_State', 'Weather_Condition', 'Accident_Report', 'Traffic_Condition']\n",
    "\n",
    "# Creiamo il subset dei dati senza le feature da escludere\n",
    "data_subset = dataset.drop(columns=columns_to_exclude)\n",
    "data_subset.hist(bins=20, figsize=(16, 12), edgecolor='black')\n",
    "plt.suptitle(\"Istogrammi per la distribuzione delle feature numeriche\", fontsize=27)\n",
    "plt.show()"
   ]
  },
  {
   "cell_type": "code",
   "execution_count": 6,
   "metadata": {},
   "outputs": [
    {
     "data": {
      "image/png": "[encoded data removed]",
      "text/plain": [
       "<Figure size 1600x1200 with 4 Axes>"
      ]
     },
     "metadata": {},
     "output_type": "display_data"
    }
   ],
   "source": [
    "# Istogrammi per le features categoriche\n",
    "fig, axes = plt.subplots(2, 2, figsize=(16, 12))\n",
    "sns.countplot(data=dataset, x='Traffic_Light_State', ax=axes[0, 0])\n",
    "sns.countplot(data=dataset, x='Weather_Condition', ax=axes[0, 1])\n",
    "sns.countplot(data=dataset, x='Accident_Report', ax=axes[1, 0])\n",
    "sns.countplot(data=dataset, x='Traffic_Condition', ax=axes[1, 1])\n",
    "plt.suptitle(\"Istogrammi per la distribuzione delle feature categoriche\", fontsize=27)\n",
    "plt.tight_layout()\n",
    "plt.show()"
   ]
  },
  {
   "cell_type": "markdown",
   "metadata": {},
   "source": [
    "## 2 - Preparazione dei dati"
   ]
  },
  {
   "cell_type": "code",
   "execution_count": 7,
   "metadata": {},
   "outputs": [],
   "source": [
    "# cancellazione delle feature inutili per i nostri obiettivi\n",
    "dataset=dataset.drop(columns=['Sentiment_Score', 'Ride_Sharing_Demand', 'Parking_Availability'], axis=1)"
   ]
  },
  {
   "cell_type": "markdown",
   "metadata": {},
   "source": [
    "### Label encoding\n",
    "Per poter calcolare la matrice di correlazione trasformiamo le variabili categoriche in numeriche"
   ]
  },
  {
   "cell_type": "markdown",
   "metadata": {},
   "source": [
    "### 2.1 - Label encoding"
   ]
  },
  {
   "cell_type": "code",
   "execution_count": 8,
   "metadata": {},
   "outputs": [
    {
     "data": {
      "application/vnd.microsoft.datawrangler.viewer.v0+json": {
       "columns": [
        {
         "name": "index",
         "rawType": "int64",
         "type": "integer"
        },
        {
         "name": "Timestamp",
         "rawType": "object",
         "type": "string"
        },
        {
         "name": "Latitude",
         "rawType": "float64",
         "type": "float"
        },
        {
         "name": "Longitude",
         "rawType": "float64",
         "type": "float"
        },
        {
         "name": "Vehicle_Count",
         "rawType": "int64",
         "type": "integer"
        },
        {
         "name": "Traffic_Speed_kmh",
         "rawType": "float64",
         "type": "float"
        },
        {
         "name": "Road_Occupancy_%",
         "rawType": "float64",
         "type": "float"
        },
        {
         "name": "Traffic_Light_State",
         "rawType": "int64",
         "type": "integer"
        },
        {
         "name": "Weather_Condition",
         "rawType": "int64",
         "type": "integer"
        },
        {
         "name": "Accident_Report",
         "rawType": "int64",
         "type": "integer"
        },
        {
         "name": "Emission_Levels_g_km",
         "rawType": "float64",
         "type": "float"
        },
        {
         "name": "Energy_Consumption_L_h",
         "rawType": "float64",
         "type": "float"
        },
        {
         "name": "Traffic_Condition",
         "rawType": "int64",
         "type": "integer"
        }
       ],
       "conversionMethod": "pd.DataFrame",
       "ref": "5a2b3125-bbb8-4796-9af5-502f34337398",
       "rows": [
        [
         "0",
         "2024-03-01 00:00:00",
         "40.84227529289184",
         "-73.70314869323049",
         "205",
         "49.89343479610332",
         "82.65277992850861",
         "2",
         "0",
         "0",
         "450.7600550695179",
         "19.57433652960039",
         "2"
        ],
        [
         "1",
         "2024-03-01 00:05:00",
         "40.8311193987152",
         "-73.9873540904415",
         "202",
         "22.38396487008785",
         "45.82929780270145",
         "0",
         "0",
         "0",
         "321.8003405168867",
         "5.385553512193732",
         "2"
        ],
        [
         "2",
         "2024-03-01 00:10:00",
         "40.81954876392327",
         "-73.73246185831279",
         "252",
         "46.88969943933488",
         "82.77246480269831",
         "0",
         "2",
         "0",
         "231.1526548042294",
         "10.277477486419944",
         "2"
        ],
        [
         "3",
         "2024-03-01 00:15:00",
         "40.72584887921568",
         "-73.98013411315877",
         "37",
         "5.73053642288215",
         "37.69556743980888",
         "1",
         "1",
         "0",
         "410.3842921098877",
         "29.243279449960266",
         "2"
        ],
        [
         "4",
         "2024-03-01 00:20:00",
         "40.81326467769622",
         "-73.96163054358502",
         "64",
         "61.34803435570192",
         "22.31335794983795",
         "1",
         "3",
         "0",
         "364.4663416875681",
         "16.801458761149803",
         "0"
        ]
       ],
       "shape": {
        "columns": 12,
        "rows": 5
       }
      },
      "text/html": [
       "<div>\n",
       "<style scoped>\n",
       "    .dataframe tbody tr th:only-of-type {\n",
       "        vertical-align: middle;\n",
       "    }\n",
       "\n",
       "    .dataframe tbody tr th {\n",
       "        vertical-align: top;\n",
       "    }\n",
       "\n",
       "    .dataframe thead th {\n",
       "        text-align: right;\n",
       "    }\n",
       "</style>\n",
       "<table border=\"1\" class=\"dataframe\">\n",
       "  <thead>\n",
       "    <tr style=\"text-align: right;\">\n",
       "      <th></th>\n",
       "      <th>Timestamp</th>\n",
       "      <th>Latitude</th>\n",
       "      <th>Longitude</th>\n",
       "      <th>Vehicle_Count</th>\n",
       "      <th>Traffic_Speed_kmh</th>\n",
       "      <th>Road_Occupancy_%</th>\n",
       "      <th>Traffic_Light_State</th>\n",
       "      <th>Weather_Condition</th>\n",
       "      <th>Accident_Report</th>\n",
       "      <th>Emission_Levels_g_km</th>\n",
       "      <th>Energy_Consumption_L_h</th>\n",
       "      <th>Traffic_Condition</th>\n",
       "    </tr>\n",
       "  </thead>\n",
       "  <tbody>\n",
       "    <tr>\n",
       "      <th>0</th>\n",
       "      <td>2024-03-01 00:00:00</td>\n",
       "      <td>40.842275</td>\n",
       "      <td>-73.703149</td>\n",
       "      <td>205</td>\n",
       "      <td>49.893435</td>\n",
       "      <td>82.652780</td>\n",
       "      <td>2</td>\n",
       "      <td>0</td>\n",
       "      <td>0</td>\n",
       "      <td>450.760055</td>\n",
       "      <td>19.574337</td>\n",
       "      <td>2</td>\n",
       "    </tr>\n",
       "    <tr>\n",
       "      <th>1</th>\n",
       "      <td>2024-03-01 00:05:00</td>\n",
       "      <td>40.831119</td>\n",
       "      <td>-73.987354</td>\n",
       "      <td>202</td>\n",
       "      <td>22.383965</td>\n",
       "      <td>45.829298</td>\n",
       "      <td>0</td>\n",
       "      <td>0</td>\n",
       "      <td>0</td>\n",
       "      <td>321.800341</td>\n",
       "      <td>5.385554</td>\n",
       "      <td>2</td>\n",
       "    </tr>\n",
       "    <tr>\n",
       "      <th>2</th>\n",
       "      <td>2024-03-01 00:10:00</td>\n",
       "      <td>40.819549</td>\n",
       "      <td>-73.732462</td>\n",
       "      <td>252</td>\n",
       "      <td>46.889699</td>\n",
       "      <td>82.772465</td>\n",
       "      <td>0</td>\n",
       "      <td>2</td>\n",
       "      <td>0</td>\n",
       "      <td>231.152655</td>\n",
       "      <td>10.277477</td>\n",
       "      <td>2</td>\n",
       "    </tr>\n",
       "    <tr>\n",
       "      <th>3</th>\n",
       "      <td>2024-03-01 00:15:00</td>\n",
       "      <td>40.725849</td>\n",
       "      <td>-73.980134</td>\n",
       "      <td>37</td>\n",
       "      <td>5.730536</td>\n",
       "      <td>37.695567</td>\n",
       "      <td>1</td>\n",
       "      <td>1</td>\n",
       "      <td>0</td>\n",
       "      <td>410.384292</td>\n",
       "      <td>29.243279</td>\n",
       "      <td>2</td>\n",
       "    </tr>\n",
       "    <tr>\n",
       "      <th>4</th>\n",
       "      <td>2024-03-01 00:20:00</td>\n",
       "      <td>40.813265</td>\n",
       "      <td>-73.961631</td>\n",
       "      <td>64</td>\n",
       "      <td>61.348034</td>\n",
       "      <td>22.313358</td>\n",
       "      <td>1</td>\n",
       "      <td>3</td>\n",
       "      <td>0</td>\n",
       "      <td>364.466342</td>\n",
       "      <td>16.801459</td>\n",
       "      <td>0</td>\n",
       "    </tr>\n",
       "  </tbody>\n",
       "</table>\n",
       "</div>"
      ],
      "text/plain": [
       "             Timestamp   Latitude  Longitude  Vehicle_Count  \\\n",
       "0  2024-03-01 00:00:00  40.842275 -73.703149            205   \n",
       "1  2024-03-01 00:05:00  40.831119 -73.987354            202   \n",
       "2  2024-03-01 00:10:00  40.819549 -73.732462            252   \n",
       "3  2024-03-01 00:15:00  40.725849 -73.980134             37   \n",
       "4  2024-03-01 00:20:00  40.813265 -73.961631             64   \n",
       "\n",
       "   Traffic_Speed_kmh  Road_Occupancy_%  Traffic_Light_State  \\\n",
       "0          49.893435         82.652780                    2   \n",
       "1          22.383965         45.829298                    0   \n",
       "2          46.889699         82.772465                    0   \n",
       "3           5.730536         37.695567                    1   \n",
       "4          61.348034         22.313358                    1   \n",
       "\n",
       "   Weather_Condition  Accident_Report  Emission_Levels_g_km  \\\n",
       "0                  0                0            450.760055   \n",
       "1                  0                0            321.800341   \n",
       "2                  2                0            231.152655   \n",
       "3                  1                0            410.384292   \n",
       "4                  3                0            364.466342   \n",
       "\n",
       "   Energy_Consumption_L_h  Traffic_Condition  \n",
       "0               19.574337                  2  \n",
       "1                5.385554                  2  \n",
       "2               10.277477                  2  \n",
       "3               29.243279                  2  \n",
       "4               16.801459                  0  "
      ]
     },
     "execution_count": 8,
     "metadata": {},
     "output_type": "execute_result"
    }
   ],
   "source": [
    "# Inizializziamo il LabelEncoder\n",
    "encoder = LabelEncoder()\n",
    "\n",
    "# Applichiamo il Label Encoding alle colonne categoriche\n",
    "# codifica delle categotie in ordine alfabetico ma a noi non va bene per Traffic_Condition\n",
    "\n",
    "# Mappatura personalizzata per Traffic_Condition\n",
    "traffic_condition_mapping = {'Low': 0, 'Medium': 1, 'High': 2}\n",
    "\n",
    "# Applichiamo il mapping\n",
    "dataset['Traffic_Condition'] = dataset['Traffic_Condition'].map(traffic_condition_mapping)\n",
    "\n",
    "# Applichiamo il Label Encoding per le altre colonne\n",
    "columns_to_encode = ['Traffic_Light_State', 'Weather_Condition']\n",
    "for col in columns_to_encode:\n",
    "    dataset[col] = encoder.fit_transform(dataset[col])\n",
    "\n",
    "dataset.head()"
   ]
  },
  {
   "cell_type": "code",
   "execution_count": 9,
   "metadata": {},
   "outputs": [
    {
     "data": {
      "application/vnd.microsoft.datawrangler.viewer.v0+json": {
       "columns": [
        {
         "name": "index",
         "rawType": "int64",
         "type": "integer"
        },
        {
         "name": "Timestamp",
         "rawType": "object",
         "type": "string"
        },
        {
         "name": "Latitude",
         "rawType": "float64",
         "type": "float"
        },
        {
         "name": "Longitude",
         "rawType": "float64",
         "type": "float"
        },
        {
         "name": "Vehicle_Count",
         "rawType": "int64",
         "type": "integer"
        },
        {
         "name": "Traffic_Speed_kmh",
         "rawType": "float64",
         "type": "float"
        },
        {
         "name": "Road_Occupancy_%",
         "rawType": "float64",
         "type": "float"
        },
        {
         "name": "Traffic_Light_State",
         "rawType": "int64",
         "type": "integer"
        },
        {
         "name": "Weather_Condition",
         "rawType": "int64",
         "type": "integer"
        },
        {
         "name": "Accident_Report",
         "rawType": "int64",
         "type": "integer"
        },
        {
         "name": "Emission_Levels_g_km",
         "rawType": "float64",
         "type": "float"
        },
        {
         "name": "Energy_Consumption_L_h",
         "rawType": "float64",
         "type": "float"
        },
        {
         "name": "Traffic_Condition",
         "rawType": "int64",
         "type": "integer"
        }
       ],
       "conversionMethod": "pd.DataFrame",
       "ref": "58bced16-0b40-437a-8d3a-529666ecf8de",
       "rows": [
        [
         "0",
         "2024-03-01 00:00:00",
         "40.84227529289184",
         "-73.70314869323049",
         "205",
         "49.89343479610332",
         "82.65277992850861",
         "2",
         "0",
         "0",
         "450.7600550695179",
         "19.57433652960039",
         "2"
        ],
        [
         "1",
         "2024-03-01 00:05:00",
         "40.8311193987152",
         "-73.9873540904415",
         "202",
         "22.38396487008785",
         "45.82929780270145",
         "0",
         "0",
         "0",
         "321.8003405168867",
         "5.385553512193732",
         "2"
        ],
        [
         "2",
         "2024-03-01 00:10:00",
         "40.81954876392327",
         "-73.73246185831279",
         "252",
         "46.88969943933488",
         "82.77246480269831",
         "0",
         "2",
         "0",
         "231.1526548042294",
         "10.277477486419944",
         "2"
        ],
        [
         "3",
         "2024-03-01 00:15:00",
         "40.72584887921568",
         "-73.98013411315877",
         "37",
         "5.73053642288215",
         "37.69556743980888",
         "1",
         "1",
         "0",
         "410.3842921098877",
         "29.243279449960266",
         "2"
        ],
        [
         "4",
         "2024-03-01 00:20:00",
         "40.81326467769622",
         "-73.96163054358502",
         "64",
         "61.34803435570192",
         "22.31335794983795",
         "1",
         "3",
         "0",
         "364.4663416875681",
         "16.801458761149803",
         "0"
        ]
       ],
       "shape": {
        "columns": 12,
        "rows": 5
       }
      },
      "text/html": [
       "<div>\n",
       "<style scoped>\n",
       "    .dataframe tbody tr th:only-of-type {\n",
       "        vertical-align: middle;\n",
       "    }\n",
       "\n",
       "    .dataframe tbody tr th {\n",
       "        vertical-align: top;\n",
       "    }\n",
       "\n",
       "    .dataframe thead th {\n",
       "        text-align: right;\n",
       "    }\n",
       "</style>\n",
       "<table border=\"1\" class=\"dataframe\">\n",
       "  <thead>\n",
       "    <tr style=\"text-align: right;\">\n",
       "      <th></th>\n",
       "      <th>Timestamp</th>\n",
       "      <th>Latitude</th>\n",
       "      <th>Longitude</th>\n",
       "      <th>Vehicle_Count</th>\n",
       "      <th>Traffic_Speed_kmh</th>\n",
       "      <th>Road_Occupancy_%</th>\n",
       "      <th>Traffic_Light_State</th>\n",
       "      <th>Weather_Condition</th>\n",
       "      <th>Accident_Report</th>\n",
       "      <th>Emission_Levels_g_km</th>\n",
       "      <th>Energy_Consumption_L_h</th>\n",
       "      <th>Traffic_Condition</th>\n",
       "    </tr>\n",
       "  </thead>\n",
       "  <tbody>\n",
       "    <tr>\n",
       "      <th>0</th>\n",
       "      <td>2024-03-01 00:00:00</td>\n",
       "      <td>40.842275</td>\n",
       "      <td>-73.703149</td>\n",
       "      <td>205</td>\n",
       "      <td>49.893435</td>\n",
       "      <td>82.652780</td>\n",
       "      <td>2</td>\n",
       "      <td>0</td>\n",
       "      <td>0</td>\n",
       "      <td>450.760055</td>\n",
       "      <td>19.574337</td>\n",
       "      <td>2</td>\n",
       "    </tr>\n",
       "    <tr>\n",
       "      <th>1</th>\n",
       "      <td>2024-03-01 00:05:00</td>\n",
       "      <td>40.831119</td>\n",
       "      <td>-73.987354</td>\n",
       "      <td>202</td>\n",
       "      <td>22.383965</td>\n",
       "      <td>45.829298</td>\n",
       "      <td>0</td>\n",
       "      <td>0</td>\n",
       "      <td>0</td>\n",
       "      <td>321.800341</td>\n",
       "      <td>5.385554</td>\n",
       "      <td>2</td>\n",
       "    </tr>\n",
       "    <tr>\n",
       "      <th>2</th>\n",
       "      <td>2024-03-01 00:10:00</td>\n",
       "      <td>40.819549</td>\n",
       "      <td>-73.732462</td>\n",
       "      <td>252</td>\n",
       "      <td>46.889699</td>\n",
       "      <td>82.772465</td>\n",
       "      <td>0</td>\n",
       "      <td>2</td>\n",
       "      <td>0</td>\n",
       "      <td>231.152655</td>\n",
       "      <td>10.277477</td>\n",
       "      <td>2</td>\n",
       "    </tr>\n",
       "    <tr>\n",
       "      <th>3</th>\n",
       "      <td>2024-03-01 00:15:00</td>\n",
       "      <td>40.725849</td>\n",
       "      <td>-73.980134</td>\n",
       "      <td>37</td>\n",
       "      <td>5.730536</td>\n",
       "      <td>37.695567</td>\n",
       "      <td>1</td>\n",
       "      <td>1</td>\n",
       "      <td>0</td>\n",
       "      <td>410.384292</td>\n",
       "      <td>29.243279</td>\n",
       "      <td>2</td>\n",
       "    </tr>\n",
       "    <tr>\n",
       "      <th>4</th>\n",
       "      <td>2024-03-01 00:20:00</td>\n",
       "      <td>40.813265</td>\n",
       "      <td>-73.961631</td>\n",
       "      <td>64</td>\n",
       "      <td>61.348034</td>\n",
       "      <td>22.313358</td>\n",
       "      <td>1</td>\n",
       "      <td>3</td>\n",
       "      <td>0</td>\n",
       "      <td>364.466342</td>\n",
       "      <td>16.801459</td>\n",
       "      <td>0</td>\n",
       "    </tr>\n",
       "  </tbody>\n",
       "</table>\n",
       "</div>"
      ],
      "text/plain": [
       "             Timestamp   Latitude  Longitude  Vehicle_Count  \\\n",
       "0  2024-03-01 00:00:00  40.842275 -73.703149            205   \n",
       "1  2024-03-01 00:05:00  40.831119 -73.987354            202   \n",
       "2  2024-03-01 00:10:00  40.819549 -73.732462            252   \n",
       "3  2024-03-01 00:15:00  40.725849 -73.980134             37   \n",
       "4  2024-03-01 00:20:00  40.813265 -73.961631             64   \n",
       "\n",
       "   Traffic_Speed_kmh  Road_Occupancy_%  Traffic_Light_State  \\\n",
       "0          49.893435         82.652780                    2   \n",
       "1          22.383965         45.829298                    0   \n",
       "2          46.889699         82.772465                    0   \n",
       "3           5.730536         37.695567                    1   \n",
       "4          61.348034         22.313358                    1   \n",
       "\n",
       "   Weather_Condition  Accident_Report  Emission_Levels_g_km  \\\n",
       "0                  0                0            450.760055   \n",
       "1                  0                0            321.800341   \n",
       "2                  2                0            231.152655   \n",
       "3                  1                0            410.384292   \n",
       "4                  3                0            364.466342   \n",
       "\n",
       "   Energy_Consumption_L_h  Traffic_Condition  \n",
       "0               19.574337                  2  \n",
       "1                5.385554                  2  \n",
       "2               10.277477                  2  \n",
       "3               29.243279                  2  \n",
       "4               16.801459                  0  "
      ]
     },
     "execution_count": 9,
     "metadata": {},
     "output_type": "execute_result"
    }
   ],
   "source": [
    "dataset.head()"
   ]
  },
  {
   "cell_type": "code",
   "execution_count": 10,
   "metadata": {},
   "outputs": [
    {
     "data": {
      "application/vnd.microsoft.datawrangler.viewer.v0+json": {
       "columns": [
        {
         "name": "index",
         "rawType": "int64",
         "type": "integer"
        },
        {
         "name": "Time_of_Day",
         "rawType": "int64",
         "type": "integer"
        },
        {
         "name": "Latitude",
         "rawType": "float64",
         "type": "float"
        },
        {
         "name": "Longitude",
         "rawType": "float64",
         "type": "float"
        },
        {
         "name": "Vehicle_Count",
         "rawType": "int64",
         "type": "integer"
        },
        {
         "name": "Traffic_Speed_kmh",
         "rawType": "float64",
         "type": "float"
        },
        {
         "name": "Road_Occupancy_%",
         "rawType": "float64",
         "type": "float"
        },
        {
         "name": "Traffic_Light_State",
         "rawType": "int64",
         "type": "integer"
        },
        {
         "name": "Weather_Condition",
         "rawType": "int64",
         "type": "integer"
        },
        {
         "name": "Accident_Report",
         "rawType": "int64",
         "type": "integer"
        },
        {
         "name": "Emission_Levels_g_km",
         "rawType": "float64",
         "type": "float"
        },
        {
         "name": "Energy_Consumption_L_h",
         "rawType": "float64",
         "type": "float"
        },
        {
         "name": "Traffic_Condition",
         "rawType": "int64",
         "type": "integer"
        }
       ],
       "conversionMethod": "pd.DataFrame",
       "ref": "6ca04eb8-3bc0-4268-9585-6cfb909256ca",
       "rows": [
        [
         "0",
         "3",
         "40.84227529289184",
         "-73.70314869323049",
         "205",
         "49.89343479610332",
         "82.65277992850861",
         "2",
         "0",
         "0",
         "450.7600550695179",
         "19.57433652960039",
         "2"
        ],
        [
         "1",
         "3",
         "40.8311193987152",
         "-73.9873540904415",
         "202",
         "22.38396487008785",
         "45.82929780270145",
         "0",
         "0",
         "0",
         "321.8003405168867",
         "5.385553512193732",
         "2"
        ],
        [
         "2",
         "3",
         "40.81954876392327",
         "-73.73246185831279",
         "252",
         "46.88969943933488",
         "82.77246480269831",
         "0",
         "2",
         "0",
         "231.1526548042294",
         "10.277477486419944",
         "2"
        ],
        [
         "3",
         "3",
         "40.72584887921568",
         "-73.98013411315877",
         "37",
         "5.73053642288215",
         "37.69556743980888",
         "1",
         "1",
         "0",
         "410.3842921098877",
         "29.243279449960266",
         "2"
        ],
        [
         "4",
         "3",
         "40.81326467769622",
         "-73.96163054358502",
         "64",
         "61.34803435570192",
         "22.31335794983795",
         "1",
         "3",
         "0",
         "364.4663416875681",
         "16.801458761149803",
         "0"
        ]
       ],
       "shape": {
        "columns": 12,
        "rows": 5
       }
      },
      "text/html": [
       "<div>\n",
       "<style scoped>\n",
       "    .dataframe tbody tr th:only-of-type {\n",
       "        vertical-align: middle;\n",
       "    }\n",
       "\n",
       "    .dataframe tbody tr th {\n",
       "        vertical-align: top;\n",
       "    }\n",
       "\n",
       "    .dataframe thead th {\n",
       "        text-align: right;\n",
       "    }\n",
       "</style>\n",
       "<table border=\"1\" class=\"dataframe\">\n",
       "  <thead>\n",
       "    <tr style=\"text-align: right;\">\n",
       "      <th></th>\n",
       "      <th>Time_of_Day</th>\n",
       "      <th>Latitude</th>\n",
       "      <th>Longitude</th>\n",
       "      <th>Vehicle_Count</th>\n",
       "      <th>Traffic_Speed_kmh</th>\n",
       "      <th>Road_Occupancy_%</th>\n",
       "      <th>Traffic_Light_State</th>\n",
       "      <th>Weather_Condition</th>\n",
       "      <th>Accident_Report</th>\n",
       "      <th>Emission_Levels_g_km</th>\n",
       "      <th>Energy_Consumption_L_h</th>\n",
       "      <th>Traffic_Condition</th>\n",
       "    </tr>\n",
       "  </thead>\n",
       "  <tbody>\n",
       "    <tr>\n",
       "      <th>0</th>\n",
       "      <td>3</td>\n",
       "      <td>40.842275</td>\n",
       "      <td>-73.703149</td>\n",
       "      <td>205</td>\n",
       "      <td>49.893435</td>\n",
       "      <td>82.652780</td>\n",
       "      <td>2</td>\n",
       "      <td>0</td>\n",
       "      <td>0</td>\n",
       "      <td>450.760055</td>\n",
       "      <td>19.574337</td>\n",
       "      <td>2</td>\n",
       "    </tr>\n",
       "    <tr>\n",
       "      <th>1</th>\n",
       "      <td>3</td>\n",
       "      <td>40.831119</td>\n",
       "      <td>-73.987354</td>\n",
       "      <td>202</td>\n",
       "      <td>22.383965</td>\n",
       "      <td>45.829298</td>\n",
       "      <td>0</td>\n",
       "      <td>0</td>\n",
       "      <td>0</td>\n",
       "      <td>321.800341</td>\n",
       "      <td>5.385554</td>\n",
       "      <td>2</td>\n",
       "    </tr>\n",
       "    <tr>\n",
       "      <th>2</th>\n",
       "      <td>3</td>\n",
       "      <td>40.819549</td>\n",
       "      <td>-73.732462</td>\n",
       "      <td>252</td>\n",
       "      <td>46.889699</td>\n",
       "      <td>82.772465</td>\n",
       "      <td>0</td>\n",
       "      <td>2</td>\n",
       "      <td>0</td>\n",
       "      <td>231.152655</td>\n",
       "      <td>10.277477</td>\n",
       "      <td>2</td>\n",
       "    </tr>\n",
       "    <tr>\n",
       "      <th>3</th>\n",
       "      <td>3</td>\n",
       "      <td>40.725849</td>\n",
       "      <td>-73.980134</td>\n",
       "      <td>37</td>\n",
       "      <td>5.730536</td>\n",
       "      <td>37.695567</td>\n",
       "      <td>1</td>\n",
       "      <td>1</td>\n",
       "      <td>0</td>\n",
       "      <td>410.384292</td>\n",
       "      <td>29.243279</td>\n",
       "      <td>2</td>\n",
       "    </tr>\n",
       "    <tr>\n",
       "      <th>4</th>\n",
       "      <td>3</td>\n",
       "      <td>40.813265</td>\n",
       "      <td>-73.961631</td>\n",
       "      <td>64</td>\n",
       "      <td>61.348034</td>\n",
       "      <td>22.313358</td>\n",
       "      <td>1</td>\n",
       "      <td>3</td>\n",
       "      <td>0</td>\n",
       "      <td>364.466342</td>\n",
       "      <td>16.801459</td>\n",
       "      <td>0</td>\n",
       "    </tr>\n",
       "  </tbody>\n",
       "</table>\n",
       "</div>"
      ],
      "text/plain": [
       "   Time_of_Day   Latitude  Longitude  Vehicle_Count  Traffic_Speed_kmh  \\\n",
       "0            3  40.842275 -73.703149            205          49.893435   \n",
       "1            3  40.831119 -73.987354            202          22.383965   \n",
       "2            3  40.819549 -73.732462            252          46.889699   \n",
       "3            3  40.725849 -73.980134             37           5.730536   \n",
       "4            3  40.813265 -73.961631             64          61.348034   \n",
       "\n",
       "   Road_Occupancy_%  Traffic_Light_State  Weather_Condition  Accident_Report  \\\n",
       "0         82.652780                    2                  0                0   \n",
       "1         45.829298                    0                  0                0   \n",
       "2         82.772465                    0                  2                0   \n",
       "3         37.695567                    1                  1                0   \n",
       "4         22.313358                    1                  3                0   \n",
       "\n",
       "   Emission_Levels_g_km  Energy_Consumption_L_h  Traffic_Condition  \n",
       "0            450.760055               19.574337                  2  \n",
       "1            321.800341                5.385554                  2  \n",
       "2            231.152655               10.277477                  2  \n",
       "3            410.384292               29.243279                  2  \n",
       "4            364.466342               16.801459                  0  "
      ]
     },
     "execution_count": 10,
     "metadata": {},
     "output_type": "execute_result"
    }
   ],
   "source": [
    "dataset['Timestamp'] = pd.to_datetime(dataset['Timestamp'])\n",
    "\n",
    "def classify_time(hour):\n",
    "    if 6 <= hour < 12:\n",
    "        return 'Morning'\n",
    "    elif 12 <= hour < 18:\n",
    "        return 'Afternoon'\n",
    "    elif 18 <= hour < 24:\n",
    "        return 'Evening'\n",
    "    else:\n",
    "        return 'Night'\n",
    "\n",
    "dataset['Timestamp'] = dataset['Timestamp'].dt.hour.apply(classify_time)\n",
    "dataset['Timestamp'] = encoder.fit_transform(dataset['Timestamp'])\n",
    "dataset.rename(columns={'Timestamp': 'Time_of_Day'}, inplace=True)\n",
    "dataset.head()"
   ]
  },
  {
   "cell_type": "code",
   "execution_count": 11,
   "metadata": {},
   "outputs": [
    {
     "name": "stdout",
     "output_type": "stream",
     "text": [
      "Time_of_Day                 int64\n",
      "Latitude                  float64\n",
      "Longitude                 float64\n",
      "Vehicle_Count               int64\n",
      "Traffic_Speed_kmh         float64\n",
      "Road_Occupancy_%          float64\n",
      "Traffic_Light_State         int64\n",
      "Weather_Condition           int64\n",
      "Accident_Report             int64\n",
      "Emission_Levels_g_km      float64\n",
      "Energy_Consumption_L_h    float64\n",
      "Traffic_Condition           int64\n",
      "dtype: object\n",
      "\n"
     ]
    }
   ],
   "source": [
    "# Verifichiamo l'aggiornamento delle colonne\n",
    "print(f\"{dataset.dtypes}\\n\")"
   ]
  },
  {
   "cell_type": "code",
   "execution_count": 12,
   "metadata": {},
   "outputs": [
    {
     "data": {
      "application/vnd.microsoft.datawrangler.viewer.v0+json": {
       "columns": [
        {
         "name": "index",
         "rawType": "int64",
         "type": "integer"
        },
        {
         "name": "Time_of_Day",
         "rawType": "int64",
         "type": "integer"
        },
        {
         "name": "Latitude",
         "rawType": "float64",
         "type": "float"
        },
        {
         "name": "Longitude",
         "rawType": "float64",
         "type": "float"
        },
        {
         "name": "Vehicle_Count",
         "rawType": "int64",
         "type": "integer"
        },
        {
         "name": "Traffic_Speed_kmh",
         "rawType": "float64",
         "type": "float"
        },
        {
         "name": "Road_Occupancy_%",
         "rawType": "float64",
         "type": "float"
        },
        {
         "name": "Traffic_Light_State",
         "rawType": "int64",
         "type": "integer"
        },
        {
         "name": "Weather_Condition",
         "rawType": "int64",
         "type": "integer"
        },
        {
         "name": "Accident_Report",
         "rawType": "int64",
         "type": "integer"
        },
        {
         "name": "Emission_Levels_g_km",
         "rawType": "float64",
         "type": "float"
        },
        {
         "name": "Energy_Consumption_L_h",
         "rawType": "float64",
         "type": "float"
        },
        {
         "name": "Traffic_Condition",
         "rawType": "int64",
         "type": "integer"
        },
        {
         "name": "Congestion_Index",
         "rawType": "float64",
         "type": "float"
        }
       ],
       "conversionMethod": "pd.DataFrame",
       "ref": "208d5aac-a836-4ba8-98db-4848cac83b3e",
       "rows": [
        [
         "0",
         "3",
         "40.84227529289184",
         "-73.70314869323049",
         "205",
         "49.89343479610332",
         "82.65277992850861",
         "2",
         "0",
         "0",
         "450.7600550695179",
         "19.57433652960039",
         "2",
         "0.7542430537494984"
        ],
        [
         "1",
         "3",
         "40.8311193987152",
         "-73.9873540904415",
         "202",
         "22.38396487008785",
         "45.82929780270145",
         "0",
         "0",
         "0",
         "321.8003405168867",
         "5.385553512193732",
         "2",
         "0.5045864614059999"
        ],
        [
         "2",
         "3",
         "40.81954876392327",
         "-73.73246185831279",
         "252",
         "46.88969943933488",
         "82.77246480269831",
         "0",
         "2",
         "0",
         "231.1526548042294",
         "10.277477486419944",
         "2",
         "0.8200929030310128"
        ],
        [
         "3",
         "3",
         "40.72584887921568",
         "-73.98013411315877",
         "37",
         "5.73053642288215",
         "37.69556743980888",
         "1",
         "1",
         "0",
         "410.3842921098877",
         "29.243279449960266",
         "2",
         "0.22198469538695997"
        ],
        [
         "4",
         "3",
         "40.81326467769622",
         "-73.96163054358502",
         "64",
         "61.34803435570192",
         "22.31335794983795",
         "1",
         "3",
         "0",
         "364.4663416875681",
         "16.801458761149803",
         "0",
         "0.15680083299428593"
        ]
       ],
       "shape": {
        "columns": 13,
        "rows": 5
       }
      },
      "text/html": [
       "<div>\n",
       "<style scoped>\n",
       "    .dataframe tbody tr th:only-of-type {\n",
       "        vertical-align: middle;\n",
       "    }\n",
       "\n",
       "    .dataframe tbody tr th {\n",
       "        vertical-align: top;\n",
       "    }\n",
       "\n",
       "    .dataframe thead th {\n",
       "        text-align: right;\n",
       "    }\n",
       "</style>\n",
       "<table border=\"1\" class=\"dataframe\">\n",
       "  <thead>\n",
       "    <tr style=\"text-align: right;\">\n",
       "      <th></th>\n",
       "      <th>Time_of_Day</th>\n",
       "      <th>Latitude</th>\n",
       "      <th>Longitude</th>\n",
       "      <th>Vehicle_Count</th>\n",
       "      <th>Traffic_Speed_kmh</th>\n",
       "      <th>Road_Occupancy_%</th>\n",
       "      <th>Traffic_Light_State</th>\n",
       "      <th>Weather_Condition</th>\n",
       "      <th>Accident_Report</th>\n",
       "      <th>Emission_Levels_g_km</th>\n",
       "      <th>Energy_Consumption_L_h</th>\n",
       "      <th>Traffic_Condition</th>\n",
       "      <th>Congestion_Index</th>\n",
       "    </tr>\n",
       "  </thead>\n",
       "  <tbody>\n",
       "    <tr>\n",
       "      <th>0</th>\n",
       "      <td>3</td>\n",
       "      <td>40.842275</td>\n",
       "      <td>-73.703149</td>\n",
       "      <td>205</td>\n",
       "      <td>49.893435</td>\n",
       "      <td>82.652780</td>\n",
       "      <td>2</td>\n",
       "      <td>0</td>\n",
       "      <td>0</td>\n",
       "      <td>450.760055</td>\n",
       "      <td>19.574337</td>\n",
       "      <td>2</td>\n",
       "      <td>0.754243</td>\n",
       "    </tr>\n",
       "    <tr>\n",
       "      <th>1</th>\n",
       "      <td>3</td>\n",
       "      <td>40.831119</td>\n",
       "      <td>-73.987354</td>\n",
       "      <td>202</td>\n",
       "      <td>22.383965</td>\n",
       "      <td>45.829298</td>\n",
       "      <td>0</td>\n",
       "      <td>0</td>\n",
       "      <td>0</td>\n",
       "      <td>321.800341</td>\n",
       "      <td>5.385554</td>\n",
       "      <td>2</td>\n",
       "      <td>0.504586</td>\n",
       "    </tr>\n",
       "    <tr>\n",
       "      <th>2</th>\n",
       "      <td>3</td>\n",
       "      <td>40.819549</td>\n",
       "      <td>-73.732462</td>\n",
       "      <td>252</td>\n",
       "      <td>46.889699</td>\n",
       "      <td>82.772465</td>\n",
       "      <td>0</td>\n",
       "      <td>2</td>\n",
       "      <td>0</td>\n",
       "      <td>231.152655</td>\n",
       "      <td>10.277477</td>\n",
       "      <td>2</td>\n",
       "      <td>0.820093</td>\n",
       "    </tr>\n",
       "    <tr>\n",
       "      <th>3</th>\n",
       "      <td>3</td>\n",
       "      <td>40.725849</td>\n",
       "      <td>-73.980134</td>\n",
       "      <td>37</td>\n",
       "      <td>5.730536</td>\n",
       "      <td>37.695567</td>\n",
       "      <td>1</td>\n",
       "      <td>1</td>\n",
       "      <td>0</td>\n",
       "      <td>410.384292</td>\n",
       "      <td>29.243279</td>\n",
       "      <td>2</td>\n",
       "      <td>0.221985</td>\n",
       "    </tr>\n",
       "    <tr>\n",
       "      <th>4</th>\n",
       "      <td>3</td>\n",
       "      <td>40.813265</td>\n",
       "      <td>-73.961631</td>\n",
       "      <td>64</td>\n",
       "      <td>61.348034</td>\n",
       "      <td>22.313358</td>\n",
       "      <td>1</td>\n",
       "      <td>3</td>\n",
       "      <td>0</td>\n",
       "      <td>364.466342</td>\n",
       "      <td>16.801459</td>\n",
       "      <td>0</td>\n",
       "      <td>0.156801</td>\n",
       "    </tr>\n",
       "  </tbody>\n",
       "</table>\n",
       "</div>"
      ],
      "text/plain": [
       "   Time_of_Day   Latitude  Longitude  Vehicle_Count  Traffic_Speed_kmh  \\\n",
       "0            3  40.842275 -73.703149            205          49.893435   \n",
       "1            3  40.831119 -73.987354            202          22.383965   \n",
       "2            3  40.819549 -73.732462            252          46.889699   \n",
       "3            3  40.725849 -73.980134             37           5.730536   \n",
       "4            3  40.813265 -73.961631             64          61.348034   \n",
       "\n",
       "   Road_Occupancy_%  Traffic_Light_State  Weather_Condition  Accident_Report  \\\n",
       "0         82.652780                    2                  0                0   \n",
       "1         45.829298                    0                  0                0   \n",
       "2         82.772465                    0                  2                0   \n",
       "3         37.695567                    1                  1                0   \n",
       "4         22.313358                    1                  3                0   \n",
       "\n",
       "   Emission_Levels_g_km  Energy_Consumption_L_h  Traffic_Condition  \\\n",
       "0            450.760055               19.574337                  2   \n",
       "1            321.800341                5.385554                  2   \n",
       "2            231.152655               10.277477                  2   \n",
       "3            410.384292               29.243279                  2   \n",
       "4            364.466342               16.801459                  0   \n",
       "\n",
       "   Congestion_Index  \n",
       "0          0.754243  \n",
       "1          0.504586  \n",
       "2          0.820093  \n",
       "3          0.221985  \n",
       "4          0.156801  "
      ]
     },
     "execution_count": 12,
     "metadata": {},
     "output_type": "execute_result"
    }
   ],
   "source": [
    "df_cong = dataset[['Vehicle_Count', 'Road_Occupancy_%']].copy()\n",
    "\n",
    "# Normalizziamo dei dati di congestione\n",
    "scaler = MinMaxScaler()\n",
    "df_cong[['Vehicle_Count_norm', 'Road_Occupancy_norm']] = scaler.fit_transform(df_cong)\n",
    "\n",
    "#calcolo dell'indice di congestione\n",
    "dataset['Congestion_Index'] = 0.4 * df_cong['Vehicle_Count_norm'] + 0.6 * df_cong['Road_Occupancy_norm']\n",
    "dataset.head()"
   ]
  },
  {
   "cell_type": "markdown",
   "metadata": {},
   "source": [
    "## Matrice di correlazione"
   ]
  },
  {
   "cell_type": "code",
   "execution_count": 13,
   "metadata": {},
   "outputs": [
    {
     "name": "stdout",
     "output_type": "stream",
     "text": [
      "Matrice di correlazione:\n",
      "\n"
     ]
    },
    {
     "data": {
      "text/plain": [
       "Text(0.5, 1.0, 'Matrice di correlazione')"
      ]
     },
     "execution_count": 13,
     "metadata": {},
     "output_type": "execute_result"
    },
    {
     "data": {
      "image/png": "[encoded data removed]",
      "text/plain": [
       "<Figure size 1500x1500 with 2 Axes>"
      ]
     },
     "metadata": {},
     "output_type": "display_data"
    }
   ],
   "source": [
    "print('Matrice di correlazione:\\n')\n",
    "corr_matrix = dataset.corr(numeric_only=True)\n",
    "plt.figure(figsize=(15,15))\n",
    "plot = sns.heatmap(corr_matrix, vmax=1, square=True, annot=True, fmt='.2f', cmap='GnBu', robust=True)\n",
    "plt.title('Matrice di correlazione')"
   ]
  },
  {
   "cell_type": "markdown",
   "metadata": {},
   "source": [
    "## Analisi della matrice di correlazione\n",
    "Le correlazioni non sono molto forti, ma non è  un problema.\n",
    "La matrice mostra la correlazione lineare tra Traffic_Condition e Congestion_Index\n",
    "\n",
    "- Per un **modello di regressione** le basse correlazioni potrebbero indicare che il modello lineare non sarà molto performante da solo.\n",
    "- Per il **random forest** le feature debolmenti correlate vengono gestite correttamente"
   ]
  },
  {
   "cell_type": "markdown",
   "metadata": {},
   "source": []
  }
 ],
 "metadata": {
  "kernelspec": {
   "display_name": "Python 3",
   "language": "python",
   "name": "python3"
  },
  "language_info": {
   "codemirror_mode": {
    "name": "ipython",
    "version": 3
   },
   "file_extension": ".py",
   "mimetype": "text/x-python",
   "name": "python",
   "nbconvert_exporter": "python",
   "pygments_lexer": "ipython3",
   "version": "3.13.2"
  }
 },
 "nbformat": 4,
 "nbformat_minor": 4
}
